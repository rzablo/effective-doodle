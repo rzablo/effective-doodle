{
 "cells": [
  {
   "cell_type": "code",
   "execution_count": null,
   "metadata": {},
   "outputs": [],
   "source": [
    "import pandas as pd\n",
    "import numpy as np\n",
    "import altair as alt\n",
    "\n",
    "# Standardbreite für die Diagramme\n",
    "WIDTH =500 \n",
    "HEIGHT=300\n",
    "\n",
    "from calculations import calc_cfd\n",
    "from calculations import calc_leadtime\n",
    "from calculations import MAXDATE\n"
   ]
  },
  {
   "cell_type": "markdown",
   "metadata": {},
   "source": [
    "## Daten aus einer Excel-Datei einlesen"
   ]
  },
  {
   "cell_type": "code",
   "execution_count": null,
   "metadata": {},
   "outputs": [],
   "source": [
    "DATA_FILE = \"Demo.xlsx\"\n",
    "\n",
    "df_excel = pd.read_excel(DATA_FILE, sheet_name=\"Sheet1\")\n"
   ]
  },
  {
   "cell_type": "markdown",
   "metadata": {},
   "source": [
    "## Datenstruktur anpassen\n",
    "\n",
    "1. Nur die gewünschten Spalten übernehmen\n",
    "2. Spaltennamen ändern -> hier: Bezeichner ohne Leerzeichen verwenden"
   ]
  },
  {
   "cell_type": "code",
   "execution_count": null,
   "metadata": {},
   "outputs": [],
   "source": [
    "df_t = df_excel[\n",
    "    [\n",
    "        \"ID\",\n",
    "        \"Zusammenfassung\",\n",
    "        \"Teilsystem\",\n",
    "        \"Bereit für Entwicklung\",\n",
    "        \"Entwicklung in Arbeit\",\n",
    "        \"Entwicklung fertig\",\n",
    "        \"Abnahme in Arbeit\",\n",
    "        \"Abnahme fertig\",\n",
    "        \"in Produktion verfügbar\",\n",
    "        \"in Produktion verwendet\",\n",
    "    ]\n",
    "]\n",
    "\n",
    "df = df_t.rename(\n",
    "    {\n",
    "        # \"ID\": \"\",\n",
    "        # \"Zusammenfassung\": \"\",\n",
    "        # \"Teilsystem\": \"\",\n",
    "        \"Bereit für Entwicklung\": \"DevReady\",\n",
    "        \"Entwicklung in Arbeit\": \"DevWork\",\n",
    "        \"Entwicklung fertig\": \"DevFini\",\n",
    "        \"Team Abnahme\": \"TA\",\n",
    "        \"Abnahme in Arbeit\": \"AbnahmeBeg\",\n",
    "        \"Abnahme fertig\": \"AbnahmeFini\",\n",
    "        \"in Produktion verfügbar\": \"ProduktionReady\",\n",
    "        \"in Produktion verwendet\": \"Used\",\n",
    "    },\n",
    "    axis=\"columns\",\n",
    ")\n"
   ]
  },
  {
   "cell_type": "markdown",
   "metadata": {},
   "source": [
    "## Daten bereinigen"
   ]
  },
  {
   "cell_type": "code",
   "execution_count": null,
   "metadata": {},
   "outputs": [],
   "source": [
    "# Nicht vorhandene Termine durch \"MAXDATE\" ersetzen\n",
    "max_date = pd.Timestamp(MAXDATE)\n",
    "\n",
    "df[\"DevReady\"].fillna(max_date, inplace=True)\n",
    "df[\"DevWork\"].fillna(max_date, inplace=True)\n",
    "df[\"DevFini\"].fillna(max_date, inplace=True)\n",
    "df[\"AbnahmeBeg\"].fillna(max_date, inplace=True)\n",
    "df[\"AbnahmeFini\"].fillna(max_date, inplace=True)\n",
    "df[\"ProduktionReady\"].fillna(max_date, inplace=True)\n"
   ]
  },
  {
   "cell_type": "markdown",
   "metadata": {},
   "source": [
    "## Berechnung der Metriken\n",
    "\n",
    "### Daten für das Cumulative Flow Diagram"
   ]
  },
  {
   "cell_type": "code",
   "execution_count": null,
   "metadata": {},
   "outputs": [],
   "source": [
    "pd.set_option(\"mode.chained_assignment\", None)\n",
    "cfd = calc_cfd(df)\n",
    "cfd\n"
   ]
  },
  {
   "cell_type": "markdown",
   "metadata": {},
   "source": [
    "### Berechnung der Lead Time"
   ]
  },
  {
   "cell_type": "code",
   "execution_count": null,
   "metadata": {},
   "outputs": [],
   "source": [
    "df_lt = calc_leadtime(df)\n",
    "df_lt.tail(5)\n"
   ]
  },
  {
   "cell_type": "code",
   "execution_count": null,
   "metadata": {},
   "outputs": [],
   "source": [
    "def lt(df):\n",
    "    display(calc_leadtime(df).describe())\n",
    "    display(calc_leadtime(df).quantile([0, 0.1, 0.25, 0.5, 0.75, 0.8, 0.9, 1]))\n",
    "\n",
    "\n",
    "lt(df_lt)\n"
   ]
  },
  {
   "cell_type": "markdown",
   "metadata": {},
   "source": [
    "## Grafische Auswertung - Lead Time\n",
    "\n",
    "### Boxplot: Leadtime zu jedem Go-live Termin"
   ]
  },
  {
   "cell_type": "code",
   "execution_count": null,
   "metadata": {},
   "outputs": [],
   "source": [
    "def boxplot_leadtime(lead):\n",
    "\n",
    "    return (\n",
    "        alt.Chart(lead)\n",
    "        .mark_boxplot(extent=\"min-max\")\n",
    "        .encode(\n",
    "            alt.X(\n",
    "                \"ProduktionReady:T\",\n",
    "                title=\"Produktionstermin\",\n",
    "                timeUnit=\"yearmonthdate\",\n",
    "                axis=alt.Axis(format=\"%m.%Y\"),\n",
    "            ),\n",
    "            alt.Y(\n",
    "                \"Leadtime:Q\", title=\"Leadtime in Wochen\", scale=alt.Scale(domain=[0, 160])\n",
    "            ),\n",
    "            color=alt.Color(\n",
    "                \"Teilsystem:O\",\n",
    "                scale=alt.Scale(scheme=\"category10\"),\n",
    "                legend=alt.Legend(title=\"Teilsystem\"),\n",
    "            ),\n",
    "        )\n",
    "        .properties(width=WIDTH, height=HEIGHT)\n",
    "    )\n",
    "\n",
    "boxplot_leadtime(df_lt)"
   ]
  },
  {
   "cell_type": "code",
   "execution_count": null,
   "metadata": {},
   "outputs": [],
   "source": [
    "def boxplot_leadtime_withfilter(lead, produkt_filter=[\"Produkt A\"]):\n",
    "    \n",
    "    return (\n",
    "        alt.Chart(lead)\n",
    "        .mark_boxplot(extent=\"min-max\")\n",
    "        .encode(\n",
    "            alt.X(\n",
    "                \"ProduktionReady:T\",\n",
    "                title=\"Produktionstermin\",\n",
    "                timeUnit=\"yearmonthdate\",\n",
    "                axis=alt.Axis(format=\"%m.%Y\"),\n",
    "            ),\n",
    "            alt.Y(\n",
    "                \"Leadtime:Q\", title=\"Leadtime in Wochen\", scale=alt.Scale(domain=[0, 160])\n",
    "            ),\n",
    "            color=alt.Color(\n",
    "                \"Teilsystem:O\",\n",
    "                scale=alt.Scale(scheme=\"category10\"),\n",
    "                legend=alt.Legend(title=\"Teilsystem\"),\n",
    "            ),\n",
    "        )\n",
    "        .transform_filter(\n",
    "            {\"not\": alt.FieldOneOfPredicate(field=\"Teilsystem\", oneOf=produkt_filter)}\n",
    "        )\n",
    "        .properties(width=WIDTH, height=HEIGHT)\n",
    "    )\n",
    "\n",
    "boxplot_leadtime_withfilter(df_lt, ['Produkt A', 'Produkt B'])"
   ]
  },
  {
   "cell_type": "markdown",
   "metadata": {},
   "source": [
    "### Histogramm: Lead Time je Teilsystem"
   ]
  },
  {
   "cell_type": "code",
   "execution_count": null,
   "metadata": {},
   "outputs": [],
   "source": [
    "# Anregung hierzu: https://www.digite.com/agile/lead-time-cycle-time/\n",
    "def plot_lead_histogram(df):\n",
    "\n",
    "    teilsysteme = df.Teilsystem.dropna().unique()\n",
    "    selection = alt.selection_multi(fields=[\"Teilsystem\"], bind=\"legend\")\n",
    "    chart = (\n",
    "        alt.Chart(df)\n",
    "        .mark_bar()\n",
    "        .encode(\n",
    "            alt.X(\n",
    "                \"Leadtime:Q\",\n",
    "                title=\"Leadtime in Wochen\",\n",
    "                bin=alt.Bin(extent=[0, 150], step=10),\n",
    "            ),\n",
    "            alt.Y(\"count()\", title=\"Anzahl\"),\n",
    "            color=alt.Color(\n",
    "                \"Teilsystem\",\n",
    "                scale=alt.Scale(\n",
    "                    domain=teilsysteme\n",
    "                ),\n",
    "            ),\n",
    "        )\n",
    "        .add_selection(selection)\n",
    "        .transform_filter(selection)\n",
    "        .properties(title='Histogramm der Leadtime je Teilsystem', width=500, height=300)\n",
    "    )\n",
    "\n",
    "    return chart\n",
    "\n",
    "plot_lead_histogram(df_lt)"
   ]
  },
  {
   "cell_type": "markdown",
   "metadata": {},
   "source": [
    "## Grafische Auswertung - Cumulative Flow Diagramm"
   ]
  },
  {
   "cell_type": "code",
   "execution_count": null,
   "metadata": {},
   "outputs": [],
   "source": [
    "cfd.head(3)"
   ]
  },
  {
   "cell_type": "code",
   "execution_count": null,
   "metadata": {},
   "outputs": [],
   "source": [
    "cfd_long = cfd.melt('Date', var_name='Typ', value_name='Anzahl')\n",
    "cfd_long[cfd_long.Date == '2020-12-20']"
   ]
  },
  {
   "cell_type": "code",
   "execution_count": null,
   "metadata": {},
   "outputs": [],
   "source": [
    "def plot_cfd(data, a_titel=\"Chart\"):\n",
    "    chart = (\n",
    "        alt.Chart(data)\n",
    "        .mark_area()\n",
    "        .encode(\n",
    "            alt.X(\n",
    "                \"Date:T\",\n",
    "                title=\"Datum\",\n",
    "                timeUnit=\"yearmonthdate\",\n",
    "                axis=alt.Axis(format=\"%m.%Y\"),\n",
    "            ),\n",
    "            alt.Y(\"Anzahl:Q\"),\n",
    "            color=alt.Color(\n",
    "                \"Typ:O\",\n",
    "                scale=alt.Scale(scheme=\"category10\"),\n",
    "                legend=alt.Legend(title=\"Arbeitsschritt\"),\n",
    "            ),\n",
    "            tooltip=[\"Typ\", \"Date\", \"Anzahl\"],\n",
    "        )\n",
    "        .properties(title=a_titel, width=WIDTH, height=HEIGHT)\n",
    "    )\n",
    "    return chart.interactive()\n",
    "\n",
    "\n",
    "plot_cfd(cfd_long)\n"
   ]
  },
  {
   "cell_type": "code",
   "execution_count": null,
   "metadata": {},
   "outputs": [],
   "source": []
  }
 ],
 "metadata": {
  "interpreter": {
   "hash": "1d93c4870c30fa1bca52afee809f463b8bd0ad28428ed75b82baa1e2b023ba4b"
  },
  "kernelspec": {
   "display_name": "Python 3.9.10 ('python-3.9.10': venv)",
   "language": "python",
   "name": "python3"
  },
  "language_info": {
   "codemirror_mode": {
    "name": "ipython",
    "version": 3
   },
   "file_extension": ".py",
   "mimetype": "text/x-python",
   "name": "python",
   "nbconvert_exporter": "python",
   "pygments_lexer": "ipython3",
   "version": "3.9.10"
  }
 },
 "nbformat": 4,
 "nbformat_minor": 2
}
