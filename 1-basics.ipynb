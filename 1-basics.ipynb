{
 "cells": [
  {
   "cell_type": "code",
   "execution_count": null,
   "metadata": {},
   "outputs": [],
   "source": [
    "import pandas as pd\n",
    "import numpy as np\n",
    "\n",
    "MAXDATE = \"2030-01-01\""
   ]
  },
  {
   "cell_type": "markdown",
   "metadata": {},
   "source": [
    "## Daten aus einer Excel-Datei einlesen"
   ]
  },
  {
   "cell_type": "code",
   "execution_count": null,
   "metadata": {},
   "outputs": [],
   "source": [
    "DATA_FILE = \"Demo.xlsx\"\n",
    "\n",
    "df_excel = pd.read_excel(DATA_FILE, sheet_name=\"Sheet1\")"
   ]
  },
  {
   "cell_type": "code",
   "execution_count": null,
   "metadata": {},
   "outputs": [],
   "source": [
    "df_excel.tail(5)"
   ]
  },
  {
   "cell_type": "markdown",
   "metadata": {},
   "source": [
    "## Datenstruktur anpassen\n",
    "\n",
    "1. Nur die gewünschten Spalten übernehmen\n",
    "2. Spaltennamen ändern -> hier: Bezeichner ohne Leerzeichen verwenden"
   ]
  },
  {
   "cell_type": "code",
   "execution_count": null,
   "metadata": {},
   "outputs": [],
   "source": [
    "df_t = df_excel[\n",
    "    [\n",
    "        \"ID\",\n",
    "        \"Zusammenfassung\",\n",
    "        \"Teilsystem\",\n",
    "        \"Bereit für Entwicklung\",\n",
    "        \"Entwicklung in Arbeit\",\n",
    "        \"Entwicklung fertig\",\n",
    "        \"Abnahme in Arbeit\",\n",
    "        \"Abnahme fertig\",\n",
    "        \"in Produktion verfügbar\",\n",
    "        \"in Produktion verwendet\",\n",
    "    ]\n",
    "]\n",
    "\n",
    "df = df_t.rename({\n",
    "        #\"ID\": \"\", \n",
    "        #\"Zusammenfassung\": \"\", \n",
    "        #\"Teilsystem\": \"\", \n",
    "        \"Bereit für Entwicklung\": \"DevReady\", \n",
    "        \"Entwicklung in Arbeit\": \"DevWork\", \n",
    "        \"Entwicklung fertig\": \"DevFini\", \n",
    "        \"Team Abnahme\": \"TA\",\n",
    "        \"Abnahme in Arbeit\": \"AbnahmeBeg\", \n",
    "        \"Abnahme fertig\": \"AbnahmeFini\", \n",
    "        \"in Produktion verfügbar\": \"ProduktionReady\",\n",
    "        \"in Produktion verwendet\": \"Used\"\n",
    "        }, axis='columns')\n"
   ]
  },
  {
   "cell_type": "code",
   "execution_count": null,
   "metadata": {},
   "outputs": [],
   "source": [
    "df.tail(5)"
   ]
  },
  {
   "cell_type": "markdown",
   "metadata": {},
   "source": [
    "## Daten bereinigen"
   ]
  },
  {
   "cell_type": "code",
   "execution_count": null,
   "metadata": {},
   "outputs": [],
   "source": [
    "# Nicht vorhandene Termine durch \"MAXDATE\" ersetzen\n",
    "max_date = pd.Timestamp(MAXDATE)\n",
    "\n",
    "df['DevReady'].fillna(max_date,inplace=True)\n",
    "df['DevWork'].fillna(max_date,inplace=True)\n",
    "df['DevFini'].fillna(max_date,inplace=True)\n",
    "df['AbnahmeBeg'].fillna(max_date,inplace=True)\n",
    "df['AbnahmeFini'].fillna(max_date,inplace=True)\n",
    "df['ProduktionReady'].fillna(max_date,inplace=True)\n",
    "df.tail(5)"
   ]
  },
  {
   "cell_type": "code",
   "execution_count": null,
   "metadata": {},
   "outputs": [],
   "source": []
  }
 ],
 "metadata": {
  "interpreter": {
   "hash": "1d93c4870c30fa1bca52afee809f463b8bd0ad28428ed75b82baa1e2b023ba4b"
  },
  "kernelspec": {
   "display_name": "Python 3.9.10 ('python-3.9.10': venv)",
   "language": "python",
   "name": "python3"
  },
  "language_info": {
   "codemirror_mode": {
    "name": "ipython",
    "version": 3
   },
   "file_extension": ".py",
   "mimetype": "text/x-python",
   "name": "python",
   "nbconvert_exporter": "python",
   "pygments_lexer": "ipython3",
   "version": "3.9.10"
  },
  "orig_nbformat": 4
 },
 "nbformat": 4,
 "nbformat_minor": 2
}
