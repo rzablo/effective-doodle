{
 "cells": [
  {
   "cell_type": "code",
   "execution_count": null,
   "metadata": {},
   "outputs": [],
   "source": [
    "# Demo 1: Balkendiagramm mit x- und y-Werten\n",
    "\n",
    "import altair as alt\n",
    "import pandas as pd\n",
    "\n",
    "# Q: https://altair-viz.github.io/user_guide/data.html\n",
    "\n",
    "data = pd.DataFrame({'A': ['A', 'B', 'C', 'D', 'E', 'F'],\n",
    "                     'B': [5, 3, 6, 7, 2, 6],\n",
    "                     \"T\": [\"Apple\", \"Orange\", \"Orange\", \"Apple\", \"Orange\", \"Apple\"]})\n",
    "\n",
    "display(data)\n",
    "\n",
    "alt.Chart(data).mark_bar().encode(\n",
    "    x='A',\n",
    "    y='B',\n",
    ")"
   ]
  },
  {
   "cell_type": "code",
   "execution_count": null,
   "metadata": {},
   "outputs": [],
   "source": [
    "# Demo 2: Liniendiagramm mit x- und y-Werten und Kategorisierung\n",
    "\n",
    "import altair as alt\n",
    "import pandas as pd\n",
    "\n",
    "data = pd.DataFrame(\n",
    "    {\n",
    "        \"A\": [\"A\", \"B\", \"C\", \"D\", \"E\", \"F\"],\n",
    "        \"B\": [5, 3, 6, 7, 2, 6],\n",
    "        \"T\": [\"Apple\", \"Orange\", \"Orange\", \"Apple\", \"Orange\", \"Apple\"],\n",
    "    }\n",
    ")\n",
    "\n",
    "display(data)\n",
    "\n",
    "alt.Chart(data).mark_line(point=True).encode(\n",
    "    x=\"A:O\",\n",
    "    y=\"B:Q\",\n",
    "    color=alt.Color(\n",
    "        \"T:O\",\n",
    "        scale=alt.Scale(scheme=\"category10\"),\n",
    "        legend=alt.Legend(title=\"Teilsystem\"),\n",
    "    ),\n",
    ")\n"
   ]
  }
 ],
 "metadata": {
  "interpreter": {
   "hash": "1d93c4870c30fa1bca52afee809f463b8bd0ad28428ed75b82baa1e2b023ba4b"
  },
  "kernelspec": {
   "display_name": "Python 3.9.10 ('python-3.9.10': venv)",
   "language": "python",
   "name": "python3"
  },
  "language_info": {
   "codemirror_mode": {
    "name": "ipython",
    "version": 3
   },
   "file_extension": ".py",
   "mimetype": "text/x-python",
   "name": "python",
   "nbconvert_exporter": "python",
   "pygments_lexer": "ipython3",
   "version": "3.9.10"
  }
 },
 "nbformat": 4,
 "nbformat_minor": 2
}
