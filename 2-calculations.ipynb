{
 "cells": [
  {
   "cell_type": "code",
   "execution_count": null,
   "metadata": {},
   "outputs": [],
   "source": [
    "import pandas as pd\n",
    "import numpy as np\n",
    "\n",
    "from calculations import calc_cfd\n",
    "from calculations import calc_leadtime\n",
    "from calculations import MAXDATE\n"
   ]
  },
  {
   "cell_type": "markdown",
   "metadata": {},
   "source": [
    "## Daten aus einer Excel-Datei einlesen"
   ]
  },
  {
   "cell_type": "code",
   "execution_count": null,
   "metadata": {},
   "outputs": [],
   "source": [
    "DATA_FILE = \"Demo.xlsx\"\n",
    "\n",
    "df_excel = pd.read_excel(DATA_FILE, sheet_name=\"Sheet1\")\n"
   ]
  },
  {
   "cell_type": "markdown",
   "metadata": {},
   "source": [
    "## Datenstruktur anpassen\n",
    "\n",
    "1. Nur die gewünschten Spalten übernehmen\n",
    "2. Spaltennamen ändern -> hier: Bezeichner ohne Leerzeichen verwenden"
   ]
  },
  {
   "cell_type": "code",
   "execution_count": null,
   "metadata": {},
   "outputs": [],
   "source": [
    "df_t = df_excel[\n",
    "    [\n",
    "        \"ID\",\n",
    "        \"Zusammenfassung\",\n",
    "        \"Teilsystem\",\n",
    "        \"Bereit für Entwicklung\",\n",
    "        \"Entwicklung in Arbeit\",\n",
    "        \"Entwicklung fertig\",\n",
    "        \"Abnahme in Arbeit\",\n",
    "        \"Abnahme fertig\",\n",
    "        \"in Produktion verfügbar\",\n",
    "        \"in Produktion verwendet\",\n",
    "    ]\n",
    "]\n",
    "\n",
    "df = df_t.rename(\n",
    "    {\n",
    "        # \"ID\": \"\",\n",
    "        # \"Zusammenfassung\": \"\",\n",
    "        # \"Teilsystem\": \"\",\n",
    "        \"Bereit für Entwicklung\": \"DevReady\",\n",
    "        \"Entwicklung in Arbeit\": \"DevWork\",\n",
    "        \"Entwicklung fertig\": \"DevFini\",\n",
    "        \"Team Abnahme\": \"TA\",\n",
    "        \"Abnahme in Arbeit\": \"AbnahmeBeg\",\n",
    "        \"Abnahme fertig\": \"AbnahmeFini\",\n",
    "        \"in Produktion verfügbar\": \"ProduktionReady\",\n",
    "        \"in Produktion verwendet\": \"Used\",\n",
    "    },\n",
    "    axis=\"columns\",\n",
    ")\n"
   ]
  },
  {
   "cell_type": "markdown",
   "metadata": {},
   "source": [
    "## Daten bereinigen"
   ]
  },
  {
   "cell_type": "code",
   "execution_count": null,
   "metadata": {},
   "outputs": [],
   "source": [
    "# Nicht vorhandene Termine durch \"MAXDATE\" ersetzen\n",
    "max_date = pd.Timestamp(MAXDATE)\n",
    "\n",
    "df[\"DevReady\"].fillna(max_date, inplace=True)\n",
    "df[\"DevWork\"].fillna(max_date, inplace=True)\n",
    "df[\"DevFini\"].fillna(max_date, inplace=True)\n",
    "df[\"AbnahmeBeg\"].fillna(max_date, inplace=True)\n",
    "df[\"AbnahmeFini\"].fillna(max_date, inplace=True)\n",
    "df[\"ProduktionReady\"].fillna(max_date, inplace=True)\n"
   ]
  },
  {
   "cell_type": "markdown",
   "metadata": {},
   "source": [
    "## Berechnung der Metriken\n",
    "\n",
    "### Daten für das Cumulative Flow Diagram"
   ]
  },
  {
   "cell_type": "code",
   "execution_count": null,
   "metadata": {},
   "outputs": [],
   "source": [
    "pd.set_option(\"mode.chained_assignment\", None)\n",
    "cfd = calc_cfd(df)\n",
    "cfd\n"
   ]
  },
  {
   "cell_type": "markdown",
   "metadata": {},
   "source": [
    "### Berechnung der Leadtime"
   ]
  },
  {
   "cell_type": "code",
   "execution_count": null,
   "metadata": {},
   "outputs": [],
   "source": [
    "df_lt = calc_leadtime(df)\n",
    "df_lt.tail(5)\n"
   ]
  },
  {
   "cell_type": "code",
   "execution_count": null,
   "metadata": {},
   "outputs": [],
   "source": [
    "def lt(df):\n",
    "    display(calc_leadtime(df).describe())\n",
    "    display(calc_leadtime(df).quantile([0, 0.1, 0.25, 0.5, 0.75, 0.8, 0.9, 1]))\n",
    "\n",
    "\n",
    "lt(df_lt)\n"
   ]
  }
 ],
 "metadata": {
  "interpreter": {
   "hash": "1d93c4870c30fa1bca52afee809f463b8bd0ad28428ed75b82baa1e2b023ba4b"
  },
  "kernelspec": {
   "display_name": "Python 3.9.10 ('python-3.9.10': venv)",
   "language": "python",
   "name": "python3"
  },
  "language_info": {
   "codemirror_mode": {
    "name": "ipython",
    "version": 3
   },
   "file_extension": ".py",
   "mimetype": "text/x-python",
   "name": "python",
   "nbconvert_exporter": "python",
   "pygments_lexer": "ipython3",
   "version": "3.9.10"
  }
 },
 "nbformat": 4,
 "nbformat_minor": 2
}
